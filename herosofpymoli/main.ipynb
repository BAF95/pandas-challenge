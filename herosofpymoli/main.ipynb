{
 "cells": [
  {
   "cell_type": "markdown",
   "source": [
    "### Note\n",
    "* Instructions have been included for each segment. You do not have to follow them exactly, but they are included to help you think through the steps."
   ],
   "metadata": {
    "collapsed": false
   }
  },
  {
   "cell_type": "code",
   "execution_count": 1,
   "outputs": [],
   "source": [
    "# Dependencies and Setup\n",
    "import pandas as pd\n",
    "\n",
    "# File to Load (Remember to Change These)\n",
    "file_to_load = \"resources/purchase_data.csv\"\n",
    "\n",
    "# Read Purchasing File and store into Pandas data frame\n",
    "purchase_data = pd.read_csv(file_to_load)"
   ],
   "metadata": {
    "collapsed": false,
    "pycharm": {
     "name": "#%%\n"
    }
   }
  },
  {
   "cell_type": "markdown",
   "source": [
    "## Player Count"
   ],
   "metadata": {
    "collapsed": false
   }
  },
  {
   "cell_type": "markdown",
   "source": [
    "* Display the total number of players"
   ],
   "metadata": {
    "collapsed": false
   }
  },
  {
   "cell_type": "code",
   "execution_count": 2,
   "outputs": [
    {
     "name": "stdout",
     "output_type": "stream",
     "text": [
      "The total number of players is: 576\n"
     ]
    }
   ],
   "source": [
    "# counts total players by calculating the size of Unique names in SN\n",
    "total_players = purchase_data[\"SN\"].unique()\n",
    "total_players_count = total_players.size\n",
    "print(f\"The total number of players is: {total_players_count}\")\n"
   ],
   "metadata": {
    "collapsed": false,
    "pycharm": {
     "name": "#%%\n"
    }
   }
  },
  {
   "cell_type": "markdown",
   "source": [
    "## Purchasing Analysis (Total)"
   ],
   "metadata": {
    "collapsed": false
   }
  },
  {
   "cell_type": "markdown",
   "source": [
    "* Run basic calculations to obtain number of unique items, average price, etc."
   ],
   "metadata": {
    "collapsed": false
   }
  },
  {
   "cell_type": "code",
   "execution_count": 3,
   "outputs": [
    {
     "name": "stdout",
     "output_type": "stream",
     "text": [
      "The total number of unique items is: 179.\n",
      "The total number of purchases is: 780.\n",
      "The gross revenue is $2379.77, and the average price is $3.05\n"
     ]
    }
   ],
   "source": [
    "# unique items\n",
    "# counts total items by making a unique array of item IDs, then finding the size of array\n",
    "unique_items = purchase_data[\"Item ID\"].unique()\n",
    "unique_items = unique_items.size\n",
    "print(f\"The total number of unique items is: {unique_items}.\")\n",
    "\n",
    "\n",
    "# total purchases\n",
    "# calculates by counting the size of purchase ID\n",
    "total_purchases = purchase_data[\"Purchase ID\"].count()\n",
    "print(f\"The total number of purchases is: {total_purchases}.\")\n",
    "\n",
    "# average price\n",
    "# sums all purchase to calculate revenue then divide by total purchases\n",
    "gross_revenue = purchase_data[\"Price\"].sum()\n",
    "\n",
    "average_price = gross_revenue/total_purchases\n",
    "# round for dollars and cents\n",
    "average_price = average_price.round(2)\n",
    "\n",
    "print(f\"The gross revenue is ${gross_revenue}, and the average price is ${average_price}\")"
   ],
   "metadata": {
    "collapsed": false,
    "pycharm": {
     "name": "#%%\n"
    }
   }
  },
  {
   "cell_type": "markdown",
   "source": [
    " * Create a summary data frame to hold the results"
   ],
   "metadata": {
    "collapsed": false,
    "pycharm": {
     "name": "#%% md\n"
    }
   }
  },
  {
   "cell_type": "code",
   "execution_count": 4,
   "outputs": [],
   "source": [
    "Game_statsDF = pd.DataFrame([{\n",
    "    \"Total Players\": total_players_count,\n",
    "    \"Total Purchases\": total_purchases,\n",
    "    \"Unique Items\": unique_items,\n",
    "    \"Gross Revenue\": gross_revenue,\n",
    "    \"Average Price\": average_price\n",
    "}])\n"
   ],
   "metadata": {
    "collapsed": false,
    "pycharm": {
     "name": "#%%\n"
    }
   }
  },
  {
   "cell_type": "markdown",
   "source": [
    "* Optional: give the displayed data cleaner formatting"
   ],
   "metadata": {
    "collapsed": false,
    "pycharm": {
     "name": "#%% md\n"
    }
   }
  },
  {
   "cell_type": "markdown",
   "source": [
    "* Display the summary data frame\n"
   ],
   "metadata": {
    "collapsed": false,
    "pycharm": {
     "name": "#%% md\n"
    }
   }
  },
  {
   "cell_type": "code",
   "execution_count": 5,
   "outputs": [
    {
     "name": "stdout",
     "output_type": "stream",
     "text": [
      "   Total Players  Total Purchases  Unique Items  Gross Revenue  Average Price\n",
      "0            576              780           179        2379.77           3.05\n"
     ]
    }
   ],
   "source": [
    "print(Game_statsDF)"
   ],
   "metadata": {
    "collapsed": false,
    "pycharm": {
     "name": "#%%\n"
    }
   }
  },
  {
   "cell_type": "markdown",
   "source": [
    "## Gender Demographics"
   ],
   "metadata": {
    "collapsed": false
   }
  },
  {
   "cell_type": "markdown",
   "source": [
    "* Percentage and Count of Male Players\n",
    "\n",
    "\n",
    "\n",
    "\n",
    "\n",
    "* Percentage and Count of Female Players\n",
    "\n",
    "\n",
    "* Percentage and Count of Other / Non-Disclosed\n",
    "\n",
    "\n",
    "\n"
   ],
   "metadata": {
    "collapsed": false
   }
  },
  {
   "cell_type": "code",
   "execution_count": 6,
   "outputs": [
    {
     "name": "stdout",
     "output_type": "stream",
     "text": [
      "The player base is composed of 84.02777777777779% male players\n",
      "The player base is composed of 14.0625% female players\n",
      "The player base is composed of 1.9097222222222223% other/nondisclosed players\n"
     ]
    }
   ],
   "source": [
    "# creates gender data\n",
    "gender_data = purchase_data[['SN', 'Gender', \"Price\"]]\n",
    "# filters gender data by male gender\n",
    "players_male = gender_data[gender_data[\"Gender\"] == \"Male\"]\n",
    "# finds all unique male players\n",
    "unique_male = players_male['SN'].unique()\n",
    "# finds the size of the set of unique male players\n",
    "count_male = unique_male.size\n",
    "# calculates then prints the percentage of male players\n",
    "percent_male = (count_male/total_players_count)*100\n",
    "print(f\"The player base is composed of {percent_male}% male players\")\n",
    "\n",
    "# filters gender data by male gender\n",
    "players_female = gender_data[gender_data[\"Gender\"] == \"Female\"]\n",
    "# finds all unique female players\n",
    "unique_female = players_female['SN'].unique()\n",
    "# finds the size of the set of unique female players\n",
    "count_female = unique_female.size\n",
    "# calculates then prints the percentage of female players\n",
    "percent_female = (count_female/total_players_count)*100\n",
    "print(f\"The player base is composed of {percent_female}% female players\")\n",
    "\n",
    "# filters gender data by other gender\n",
    "players_other = gender_data[gender_data[\"Gender\"] == \"Other / Non-Disclosed\"]\n",
    "# finds all unique other players\n",
    "unique_other = players_other['SN'].unique()\n",
    "# finds the size of the set of unique other players\n",
    "count_other = unique_other.size\n",
    "# calculates then prints the percentage of other players\n",
    "percent_other = (count_other/total_players_count)*100\n",
    "print(f\"The player base is composed of {percent_other}% other/nondisclosed players\")\n",
    "\n"
   ],
   "metadata": {
    "collapsed": false,
    "pycharm": {
     "name": "#%%\n"
    }
   }
  },
  {
   "cell_type": "markdown",
   "source": [
    "\n",
    "## Purchasing Analysis (Gender)"
   ],
   "metadata": {
    "collapsed": false
   }
  },
  {
   "cell_type": "markdown",
   "source": [
    "* Run basic calculations to obtain purchase count, avg. purchase price, avg. purchase total per person etc. by gender\n",
    "\n",
    "\n",
    "\n",
    "\n",
    "* Create a summary data frame to hold the results\n",
    "\n",
    "\n",
    "* Optional: give the displayed data cleaner formatting\n",
    "\n",
    "\n",
    "* Display the summary data frame"
   ],
   "metadata": {
    "collapsed": false
   }
  },
  {
   "cell_type": "code",
   "execution_count": 7,
   "outputs": [
    {
     "name": "stdout",
     "output_type": "stream",
     "text": [
      "   Total Males  Total Male Purchases  Gross Revenue by Males  \\\n",
      "0          484                   652                 1967.64   \n",
      "\n",
      "   Average Price Males  Average Price by Unique Males  Total Females  \\\n",
      "0             3.017853                       4.065372             81   \n",
      "\n",
      "   Total Female Purchases  Gross Revenue by Females  Average Price Females  \\\n",
      "0                     113                    361.94              17.412743   \n",
      "\n",
      "   Average Price by Unique Females  Total Other  Total Other Purchases  \\\n",
      "0                         4.468395           11                     15   \n",
      "\n",
      "   Gross Revenue by Other  Average Price other  Average Price by Unique Other  \n",
      "0                   50.19                3.346                       4.562727  \n"
     ]
    }
   ],
   "source": [
    "# because the purchase data is the root source, non-unique specified gender data is the same as\n",
    "# purchase by gender data\n",
    "\n",
    "# * Male Data *\n",
    "\n",
    "\n",
    "# sets price data = Price column in male data\n",
    "Male_purchase_count = players_male[\"Price\"]\n",
    "# counts total male purchases(non-unique)\n",
    "Total_male_purchases = Male_purchase_count.count()\n",
    "# creates a for loop to determine gross revenue\n",
    "grossrev_male = 0\n",
    "for x in Male_purchase_count:\n",
    "    grossrev_male += x\n",
    "# calculates average purchase price\n",
    "average_price_male = grossrev_male/Total_male_purchases\n",
    "# calculates average price per person for males (calls count_male for unique males)\n",
    "average_price_unique_male = grossrev_male/count_male\n",
    "\n",
    "\n",
    "# * Female Data *\n",
    "\n",
    "\n",
    "# sets price data = Price column in female data\n",
    "Female_purchase_count = players_female[\"Price\"]\n",
    "# counts total female purchases(non-unique)\n",
    "Total_female_purchases = Female_purchase_count.count()\n",
    "# creates a for loop to determine gross revenue\n",
    "grossrev_female = 0\n",
    "for x in Female_purchase_count:\n",
    "    grossrev_female += x\n",
    "# calculates average purchase price\n",
    "average_price_female = grossrev_male/Total_female_purchases\n",
    "# calculates average price per person for females (calls count_female for unique females)\n",
    "average_price_unique_female = grossrev_female/count_female\n",
    "\n",
    "\n",
    "\n",
    "# * Other Data *\n",
    "\n",
    "\n",
    "\n",
    "# sets price data = Price column in other data\n",
    "Other_purchase_count = players_other[\"Price\"]\n",
    "# counts total other purchases(non-unique)\n",
    "Total_other_purchases = Other_purchase_count.count()\n",
    "# creates a for loop to determine gross revenue\n",
    "grossrev_other = 0\n",
    "for x in Other_purchase_count:\n",
    "    grossrev_other += x\n",
    "\n",
    "# calculates average purchase price\n",
    "average_price_other = grossrev_other/Total_other_purchases\n",
    "# calculates average price per person for other (calls count_other for unique others)\n",
    "average_price_unique_other = grossrev_other/count_other\n",
    "\n",
    "\n",
    "Gender_statsDF = pd.DataFrame([{\n",
    "    \"Total Males\": count_male,\n",
    "    \"Total Male Purchases\" : Total_male_purchases,\n",
    "    \"Gross Revenue by Males\" : grossrev_male,\n",
    "    \"Average Price Males\" : average_price_male,\n",
    "    \"Average Price by Unique Males\" : average_price_unique_male,\n",
    "    \"Total Females\": count_female,\n",
    "    \"Total Female Purchases\" : Total_female_purchases,\n",
    "    \"Gross Revenue by Females\" : grossrev_female,\n",
    "    \"Average Price Females\" : average_price_female,\n",
    "    \"Average Price by Unique Females\" : average_price_unique_female,\n",
    "    \"Total Other\": count_other,\n",
    "    \"Total Other Purchases\" : Total_other_purchases,\n",
    "    \"Gross Revenue by Other\" : grossrev_other,\n",
    "    \"Average Price other\" : average_price_other,\n",
    "    \"Average Price by Unique Other\" : average_price_unique_other\n",
    "\n",
    "}])\n",
    "\n",
    "print(Gender_statsDF)\n",
    "\n",
    "\n",
    "\n",
    "\n"
   ],
   "metadata": {
    "collapsed": false,
    "pycharm": {
     "name": "#%%\n"
    }
   }
  },
  {
   "cell_type": "markdown",
   "source": [
    "## Age Demographics"
   ],
   "metadata": {
    "collapsed": false
   }
  },
  {
   "cell_type": "markdown",
   "source": [
    "* Establish bins for ages\n",
    "\n",
    "\n",
    "* Categorize the existing players using the age bins. Hint: use pd.cut()\n",
    "\n",
    "\n",
    "* Calculate the numbers and percentages by age group\n",
    "\n",
    "\n",
    "* Create a summary data frame to hold the results\n",
    "\n",
    "\n",
    "* Optional: round the percentage column to two decimal points\n",
    "\n",
    "\n",
    "* Display Age Demographics Table\n"
   ],
   "metadata": {
    "collapsed": false
   }
  },
  {
   "cell_type": "code",
   "execution_count": 8,
   "outputs": [
    {
     "name": "stdout",
     "output_type": "stream",
     "text": [
      "                  Number Of People  Percent Of Population\n",
      "Age Demographics                                         \n",
      "<10                             32               4.102564\n",
      "10-14                           54               6.923077\n",
      "15-19                          101              12.948718\n",
      "20-24                          424              54.358974\n",
      "25-29                           42               5.384615\n",
      "30-34                           87              11.153846\n",
      "35-39                           27               3.461538\n",
      "40-44                            6               0.769231\n",
      "45-49                            7               0.897436\n"
     ]
    },
    {
     "name": "stderr",
     "output_type": "stream",
     "text": [
      "<ipython-input-8-57b933949ddb>:5: SettingWithCopyWarning: \n",
      "A value is trying to be set on a copy of a slice from a DataFrame.\n",
      "Try using .loc[row_indexer,col_indexer] = value instead\n",
      "\n",
      "See the caveats in the documentation: https://pandas.pydata.org/pandas-docs/stable/user_guide/indexing.html#returning-a-view-versus-a-copy\n",
      "  players_age[\"Age Demographics\"] = pd.cut(players_age[\"Age\"], ages, labels=names, include_lowest=True)\n"
     ]
    }
   ],
   "source": [
    "ages = [0, 10, 15, 19, 25, 29, 35, 39, 40, 45]\n",
    "names = [\"<10\", \"10-14\", \"15-19\", \"20-24\", \"25-29\", \"30-34\", \"35-39\", \"40-44\", \"45-49\"]\n",
    "\n",
    "players_age = purchase_data[[\"Age\", \"Price\"]]\n",
    "players_age[\"Age Demographics\"] = pd.cut(players_age[\"Age\"], ages, labels=names, include_lowest=True)\n",
    "\n",
    "age_group = players_age.groupby(\"Age Demographics\")\n",
    "age_count = age_group.count()\n",
    "age_count = age_count.drop(columns=\"Price\")\n",
    "age_total = age_count.sum()\n",
    "\n",
    "age_percent = (age_count/age_total)*100\n",
    "\n",
    "agedemoDF = age_count.merge(age_percent, \"outer\", left_on=\"Age Demographics\", right_index=True)\n",
    "agedemoDF = agedemoDF.rename(columns={\"Age_x\":\"Number Of People\", \"Age_y\":\"Percent Of Population\"})\n",
    "print(agedemoDF)\n"
   ],
   "metadata": {
    "collapsed": false,
    "pycharm": {
     "name": "#%%\n"
    }
   }
  },
  {
   "cell_type": "markdown",
   "source": [
    "## Purchasing Analysis (Age)"
   ],
   "metadata": {
    "collapsed": false
   }
  },
  {
   "cell_type": "markdown",
   "source": [
    "* Bin the purchase_data data frame by age\n",
    "\n",
    "\n",
    "* Run basic calculations to obtain purchase count, avg. purchase price, avg. purchase total per person etc. in the table below\n",
    "\n",
    "\n",
    "* Create a summary data frame to hold the results\n",
    "\n",
    "\n",
    "* Optional: give the displayed data cleaner formatting\n",
    "\n",
    "\n",
    "* Display the summary data frame"
   ],
   "metadata": {
    "collapsed": false
   }
  },
  {
   "cell_type": "code",
   "execution_count": 9,
   "outputs": [
    {
     "name": "stdout",
     "output_type": "stream",
     "text": [
      "                  Total Individuals  Total Purchase Value  \\\n",
      "Age Demographics                                            \n",
      "<10                              32                108.96   \n",
      "10-14                            54                156.60   \n",
      "15-19                           101                307.24   \n",
      "20-24                           424               1295.96   \n",
      "25-29                            42                111.10   \n",
      "30-34                            87                266.03   \n",
      "35-39                            27                 95.64   \n",
      "40-44                             6                 16.71   \n",
      "45-49                             7                 21.53   \n",
      "\n",
      "                  Average Purchase Price  Average Purchase Price/Person  \n",
      "Age Demographics                                                         \n",
      "<10                             8.468750                       3.405000  \n",
      "10-14                          13.962963                       2.900000  \n",
      "15-19                          17.415842                       3.041980  \n",
      "20-24                          22.278302                       3.056509  \n",
      "25-29                          27.404762                       2.645238  \n",
      "30-34                          31.965517                       3.057816  \n",
      "35-39                          37.592593                       3.542222  \n",
      "40-44                          40.000000                       2.785000  \n",
      "45-49                          42.857143                       3.075714  \n"
     ]
    },
    {
     "name": "stderr",
     "output_type": "stream",
     "text": [
      "<ipython-input-9-06fe6ea237d9>:2: SettingWithCopyWarning: \n",
      "A value is trying to be set on a copy of a slice from a DataFrame.\n",
      "Try using .loc[row_indexer,col_indexer] = value instead\n",
      "\n",
      "See the caveats in the documentation: https://pandas.pydata.org/pandas-docs/stable/user_guide/indexing.html#returning-a-view-versus-a-copy\n",
      "  players_age_money[\"Age Demographics\"] = pd.cut(players_age[\"Age\"], ages, labels=names, include_lowest=True)\n"
     ]
    }
   ],
   "source": [
    "players_age_money = purchase_data[[\"Age\", \"Price\"]]\n",
    "players_age_money[\"Age Demographics\"] = pd.cut(players_age[\"Age\"], ages, labels=names, include_lowest=True)\n",
    "ages = players_age_money.groupby(\"Age Demographics\")\n",
    "age_purchase_total = ages.sum()\n",
    "age_counter = ages.count()\n",
    "age_purchase_average = ages.mean()\n",
    "\n",
    "AgePurchDF = age_counter.merge(age_purchase_total, \"outer\", left_on=\"Age Demographics\", right_index=True)\n",
    "AgePurchDF = AgePurchDF.merge(age_purchase_average, \"outer\", left_on=\"Age Demographics\", right_index=True)\n",
    "AgePurchDF = AgePurchDF.rename(columns={\"Price_x\":\"Total Individuals\" ,\"\":\"\",\"Price_y\":\"Total Purchase Value\",\n",
    "                                                                \"Price\": \"Average Purchase Price/Person\",\n",
    "                                        \"Age\": \"Average Purchase Price\"})\n",
    "AgePurchDF = AgePurchDF.drop(columns=[\"Age_x\", \"Age_y\"])\n",
    "print(AgePurchDF)"
   ],
   "metadata": {
    "collapsed": false,
    "pycharm": {
     "name": "#%%\n"
    }
   }
  },
  {
   "cell_type": "markdown",
   "source": [
    "## Top Spenders"
   ],
   "metadata": {
    "collapsed": false
   }
  },
  {
   "cell_type": "markdown",
   "source": [
    "* Run basic calculations to obtain the results in the table below\n",
    "\n",
    "\n",
    "* Create a summary data frame to hold the results\n",
    "\n",
    "\n",
    "* Sort the total purchase value column in descending order\n",
    "\n",
    "\n",
    "* Optional: give the displayed data cleaner formatting\n",
    "\n",
    "\n",
    "* Display a preview of the summary data frame\n",
    "\n"
   ],
   "metadata": {
    "collapsed": false
   }
  },
  {
   "cell_type": "code",
   "execution_count": 10,
   "outputs": [
    {
     "name": "stdout",
     "output_type": "stream",
     "text": [
      "             Amount Purchased  Total Purchases  Average Purchase Price\n",
      "SN                                                                    \n",
      "Lisosia93               18.96                5                3.792000\n",
      "Idastidru52             15.45                4                3.862500\n",
      "Chamjask73              13.83                3                4.610000\n",
      "Iral74                  13.62                4                3.405000\n",
      "Iskadarya95             13.10                3                4.366667\n"
     ]
    }
   ],
   "source": [
    "top_spenders = purchase_data[[\"SN\", \"Price\"]]\n",
    "top_spenders_group = top_spenders.groupby(\"SN\")\n",
    "\n",
    "top_spenders_group_count = top_spenders_group[\"Price\"].count()\n",
    "\n",
    "\n",
    "\n",
    "top_spenders_group_sum = top_spenders_group.sum()\n",
    "top_spenders_group_average = top_spenders_group.mean()\n",
    "\n",
    "\n",
    "top_spenders_group_sum = top_spenders_group_sum.merge(top_spenders_group_count, \"outer\", left_index=True, right_index=True)\n",
    "top_spenders_group_sum = top_spenders_group_sum.merge(top_spenders_group_average, \"outer\", left_index=True, right_index=True)\n",
    "top_spenders_group_sum = top_spenders_group_sum.rename(columns={\"Price_x\":\"Amount Purchased\" ,\"Price_y\":\"Total Purchases\",\n",
    "                                                                \"Price\": \"Average Purchase Price\"})\n",
    "top_spenders_group_sum = top_spenders_group_sum.sort_values(\"Amount Purchased\", ascending=False).head(5)\n",
    "\n",
    "print(top_spenders_group_sum)\n",
    "\n",
    "\n"
   ],
   "metadata": {
    "collapsed": false,
    "pycharm": {
     "name": "#%%\n"
    }
   }
  },
  {
   "cell_type": "markdown",
   "source": [
    "## Most Popular Items"
   ],
   "metadata": {
    "collapsed": false
   }
  },
  {
   "cell_type": "markdown",
   "source": [
    "* Retrieve the Item ID, Item Name, and Item Price columns\n",
    "\n",
    "\n",
    "* Group by Item ID and Item Name. Perform calculations to obtain purchase count, average item price, and total purchase value\n",
    "\n",
    "\n",
    "* Create a summary data frame to hold the results\n",
    "\n",
    "\n",
    "* Sort the purchase count column in descending order\n",
    "\n",
    "\n",
    "* Optional: give the displayed data cleaner formatting\n",
    "\n",
    "\n",
    "* Display a preview of the summary data frame\n",
    "\n"
   ],
   "metadata": {
    "collapsed": false
   }
  },
  {
   "cell_type": "code",
   "execution_count": 11,
   "outputs": [
    {
     "name": "stdout",
     "output_type": "stream",
     "text": [
      "                                                      Number of Purchases  \\\n",
      "Item ID Item Name                                                           \n",
      "92      Final Critic                                                   13   \n",
      "178     Oathbreaker, Last Hope of the Breaking Storm                   12   \n",
      "145     Fiery Glass Crusader                                            9   \n",
      "132     Persuasion                                                      9   \n",
      "108     Extraction, Quickblade Of Trembling Hands                       9   \n",
      "...                                                                   ...   \n",
      "42      The Decapitator                                                 1   \n",
      "51      Endbringer                                                      1   \n",
      "118     Ghost Reaver, Longsword of Magic                                1   \n",
      "104     Gladiator's Glaive                                              1   \n",
      "91      Celeste                                                         1   \n",
      "\n",
      "                                                      Total Purchase Value  \\\n",
      "Item ID Item Name                                                            \n",
      "92      Final Critic                                                 59.99   \n",
      "178     Oathbreaker, Last Hope of the Breaking Storm                 50.76   \n",
      "145     Fiery Glass Crusader                                         41.22   \n",
      "132     Persuasion                                                   28.99   \n",
      "108     Extraction, Quickblade Of Trembling Hands                    31.77   \n",
      "...                                                                    ...   \n",
      "42      The Decapitator                                               1.75   \n",
      "51      Endbringer                                                    4.66   \n",
      "118     Ghost Reaver, Longsword of Magic                              2.17   \n",
      "104     Gladiator's Glaive                                            1.93   \n",
      "91      Celeste                                                       4.17   \n",
      "\n",
      "                                                      Average Purchased Price  \n",
      "Item ID Item Name                                                              \n",
      "92      Final Critic                                                 4.614615  \n",
      "178     Oathbreaker, Last Hope of the Breaking Storm                 4.230000  \n",
      "145     Fiery Glass Crusader                                         4.580000  \n",
      "132     Persuasion                                                   3.221111  \n",
      "108     Extraction, Quickblade Of Trembling Hands                    3.530000  \n",
      "...                                                                       ...  \n",
      "42      The Decapitator                                              1.750000  \n",
      "51      Endbringer                                                   4.660000  \n",
      "118     Ghost Reaver, Longsword of Magic                             2.170000  \n",
      "104     Gladiator's Glaive                                           1.930000  \n",
      "91      Celeste                                                      4.170000  \n",
      "\n",
      "[179 rows x 3 columns]\n"
     ]
    }
   ],
   "source": [
    "item_data = purchase_data[[\"Item ID\", \"Item Name\", \"Price\"]]\n",
    "item_group = item_data.groupby([\"Item ID\", \"Item Name\"])\n",
    "item_count = item_group.count()\n",
    "item_avg_price = item_group.mean()\n",
    "item_total = item_group.sum()\n",
    "item_merge = item_count.merge(item_total, \"outer\", right_index=True, left_on=[\"Item ID\", \"Item Name\"])\n",
    "item_merge = item_merge.rename(columns={\"Price_x\":\"Number of Purchases\", \"Price_y\":\"Total Purchase Value\"})\n",
    "item_merge = item_merge.merge(item_avg_price, \"outer\", left_index=True, right_index=True)\n",
    "item_merge = item_merge.rename(columns={\"Price\":\"Average Purchased Price\"})\n",
    "item_merge = item_merge.sort_values(\"Number of Purchases\", ascending=False)\n",
    "print(item_merge)"
   ],
   "metadata": {
    "collapsed": false,
    "pycharm": {
     "name": "#%%\n"
    }
   }
  },
  {
   "cell_type": "markdown",
   "source": [
    "## Most Profitable Items"
   ],
   "metadata": {
    "collapsed": false
   }
  },
  {
   "cell_type": "markdown",
   "source": [
    "* Sort the above table by total purchase value in descending order\n",
    "\n",
    "\n",
    "* Optional: give the displayed data cleaner formatting\n",
    "\n",
    "\n",
    "* Display a preview of the data frame\n",
    "\n"
   ],
   "metadata": {
    "collapsed": false
   }
  },
  {
   "cell_type": "code",
   "execution_count": 12,
   "outputs": [
    {
     "name": "stdout",
     "output_type": "stream",
     "text": [
      "                                                      Number of Purchases  \\\n",
      "Item ID Item Name                                                           \n",
      "92      Final Critic                                                   13   \n",
      "178     Oathbreaker, Last Hope of the Breaking Storm                   12   \n",
      "82      Nirvana                                                         9   \n",
      "145     Fiery Glass Crusader                                            9   \n",
      "103     Singed Scalpel                                                  8   \n",
      "...                                                                   ...   \n",
      "28      Flux, Destroyer of Due Diligence                                2   \n",
      "126     Exiled Mithril Longsword                                        1   \n",
      "125     Whistling Mithril Warblade                                      2   \n",
      "104     Gladiator's Glaive                                              1   \n",
      "42      The Decapitator                                                 1   \n",
      "\n",
      "                                                      Total Purchase Value  \\\n",
      "Item ID Item Name                                                            \n",
      "92      Final Critic                                                 59.99   \n",
      "178     Oathbreaker, Last Hope of the Breaking Storm                 50.76   \n",
      "82      Nirvana                                                      44.10   \n",
      "145     Fiery Glass Crusader                                         41.22   \n",
      "103     Singed Scalpel                                               34.80   \n",
      "...                                                                    ...   \n",
      "28      Flux, Destroyer of Due Diligence                              2.12   \n",
      "126     Exiled Mithril Longsword                                      2.00   \n",
      "125     Whistling Mithril Warblade                                    2.00   \n",
      "104     Gladiator's Glaive                                            1.93   \n",
      "42      The Decapitator                                               1.75   \n",
      "\n",
      "                                                      Average Purchased Price  \n",
      "Item ID Item Name                                                              \n",
      "92      Final Critic                                                 4.614615  \n",
      "178     Oathbreaker, Last Hope of the Breaking Storm                 4.230000  \n",
      "82      Nirvana                                                      4.900000  \n",
      "145     Fiery Glass Crusader                                         4.580000  \n",
      "103     Singed Scalpel                                               4.350000  \n",
      "...                                                                       ...  \n",
      "28      Flux, Destroyer of Due Diligence                             1.060000  \n",
      "126     Exiled Mithril Longsword                                     2.000000  \n",
      "125     Whistling Mithril Warblade                                   1.000000  \n",
      "104     Gladiator's Glaive                                           1.930000  \n",
      "42      The Decapitator                                              1.750000  \n",
      "\n",
      "[179 rows x 3 columns]\n"
     ]
    }
   ],
   "source": [
    "item_merge = item_merge.sort_values(\"Total Purchase Value\", ascending=False)\n",
    "print(item_merge)\n"
   ],
   "metadata": {
    "collapsed": false,
    "pycharm": {
     "name": "#%%\n"
    }
   }
  }
 ],
 "metadata": {
  "kernelspec": {
   "display_name": "Python 3",
   "language": "python",
   "name": "python3"
  },
  "language_info": {
   "codemirror_mode": {
    "name": "ipython",
    "version": 2
   },
   "file_extension": ".py",
   "mimetype": "text/x-python",
   "name": "python",
   "nbconvert_exporter": "python",
   "pygments_lexer": "ipython2",
   "version": "2.7.6"
  }
 },
 "nbformat": 4,
 "nbformat_minor": 0
}